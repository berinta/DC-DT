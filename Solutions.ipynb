{
 "cells": [
  {
   "cell_type": "markdown",
   "metadata": {},
   "source": [
    "### DC - DT Challenges"
   ]
  },
  {
   "cell_type": "markdown",
   "metadata": {},
   "source": [
    "**Date: 29-08-2024**\n",
    "\n",
    "!['Question1'](<./resources/question1.jpg>)"
   ]
  },
  {
   "cell_type": "code",
   "execution_count": 99,
   "metadata": {},
   "outputs": [
    {
     "name": "stdout",
     "output_type": "stream",
     "text": [
      "[6, 4, 2, 5, 8, 7, 3, 1, 6, 4, 2, 5, 8, 7, 3, 1, 6, 4, 2, 5, 8, 7, 3, 1]\n",
      "(4, 2, 5)\n",
      "(3, 1)\n",
      "(2, 5, 8)\n",
      "(3, 1, 6)\n",
      "(6, 4, 2)\n",
      "(7, 3, 1)\n",
      "(1,)\n",
      "(5, 8, 7)\n",
      "(8, 7, 3)\n",
      "(1, 6, 4)\n",
      "1\n"
     ]
    }
   ],
   "source": [
    "\n",
    "n = 8\n",
    "nums = [6,4,2,5,8,7,3,1]\n",
    "x,y = 3,15\n",
    "pairs = []\n",
    "new_pairs = []\n",
    "count = 0\n",
    "\n",
    "for i in range(x):\n",
    "    for j in nums:\n",
    "        pairs.append(j)\n",
    "print(pairs)\n",
    "\n",
    "    \n",
    "for i in range(1,len(pairs)):\n",
    "    ns = pairs[i:x+1]\n",
    "    x+=1\n",
    "    new_pairs.append(tuple(ns))\n",
    "\n",
    "new_pairs=list(set(new_pairs))\n",
    "\n",
    "\n",
    "    \n",
    "for i in new_pairs:\n",
    "    print(i)\n",
    "    if sum(i)==y:\n",
    "        count+=1\n",
    "print(count)"
   ]
  },
  {
   "cell_type": "code",
   "execution_count": 100,
   "metadata": {},
   "outputs": [
    {
     "name": "stdout",
     "output_type": "stream",
     "text": [
      "6\n"
     ]
    }
   ],
   "source": [
    "l = [1,2,3,4,5]\n",
    "x = 2\n",
    "y = 5\n",
    "\n",
    "def combinations(l, x):\n",
    "    if x == 0:\n",
    "        return [[]]\n",
    "    combs = []\n",
    "    for i in range(len(l)):\n",
    "        m = l[i]\n",
    "        remaining_lst = l[i + 1:]\n",
    "        for p in combinations(remaining_lst, x - 1):\n",
    "            combs.append([m] + p)\n",
    "    return combs\n",
    "\n",
    "valid_combs = [comb for comb in combinations(l,x) if sum(comb) == y]\n",
    "print(len(valid_combs))"
   ]
  },
  {
   "cell_type": "markdown",
   "metadata": {},
   "source": [
    "!['DT29'](<./resources/DT29.jpg>)"
   ]
  },
  {
   "cell_type": "code",
   "execution_count": null,
   "metadata": {},
   "outputs": [],
   "source": []
  }
 ],
 "metadata": {
  "kernelspec": {
   "display_name": "pythondev",
   "language": "python",
   "name": "python3"
  },
  "language_info": {
   "codemirror_mode": {
    "name": "ipython",
    "version": 3
   },
   "file_extension": ".py",
   "mimetype": "text/x-python",
   "name": "python",
   "nbconvert_exporter": "python",
   "pygments_lexer": "ipython3",
   "version": "3.12.4"
  }
 },
 "nbformat": 4,
 "nbformat_minor": 2
}
